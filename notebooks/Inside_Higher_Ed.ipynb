{
 "cells": [
  {
   "cell_type": "markdown",
   "id": "f9da5a51-ba2d-4a76-a5b6-2549b45436e8",
   "metadata": {},
   "source": [
    "# Inside Higher Ed Job Scraper\n",
    "\n",
    "Collecting all job advertisements for tenure-track for North American four-year institutions.\n",
    "\n",
    "- **[Query](https://careers.insidehighered.com/jobs/tenured-and-tenure-track/four-year-institution/north-america/)**\n",
    "\n",
    "\n",
    "Everytime you scrape:\n",
    "\n",
    "1. Load in previous job advertisements\n",
    "2. Scrape all the *new job advertisements*\n",
    "3. De-duplicate if necessary\n",
    "4. Output to DB/CSV\n"
   ]
  },
  {
   "cell_type": "code",
   "execution_count": 1,
   "id": "dab34697-b4bf-455f-8bf5-4fab423887c7",
   "metadata": {},
   "outputs": [],
   "source": [
    "# Data manipulation libraries\n",
    "import pandas as pd\n",
    "import numpy as np\n",
    "# Common webscraping libaries\n",
    "from bs4 import BeautifulSoup as bs\n",
    "import requests"
   ]
  },
  {
   "cell_type": "code",
   "execution_count": 31,
   "id": "a2a3794b-bac4-42b7-a438-2fe5ec3f982c",
   "metadata": {},
   "outputs": [],
   "source": [
    "import re\n",
    "import time\n",
    "\n",
    "def parse_list_page_item(list_item):\n",
    "    \"\"\"\n",
    "        Takes the list item HTML and parses out the four fields below into a list\n",
    "    \n",
    "    \"\"\"\n",
    "    title_tag = list_item.find(\"h3\").find(\"a\")\n",
    "    job_title = title_tag.text\n",
    "    job_url_suffix = title_tag['href'].strip()\n",
    "    job_id = job_url_suffix.split(\"/\")[2]\n",
    "    job_url = f\"https://careers.insidehighered.com{job_url_suffix}\"\n",
    "    diversity_job = False if list_item.find(\"p\",attrs={\"class\":\"ribbon\"}) is None else True\n",
    "    return [job_id,job_title,job_url,diversity_job]\n",
    "\n",
    "\n",
    "def parse_list_page(url):\n",
    "    \"\"\"\n",
    "        Returns the basic info from the jobs listing page\n",
    "        \n",
    "        || job id || job title || url || diversity job? \n",
    "    \n",
    "    \"\"\"\n",
    "    time.sleep(1)\n",
    "    r = requests.get(url,headers = {'User-Agent': 'Mozilla/5.0'})\n",
    "    # The part of the webpage with the id tag \"listing\" contains all the job postings\n",
    "    listing_page = bs(r.text).find(\"ul\",attrs={\"id\":'listing'})\n",
    "    # Parse out the ads\n",
    "    list_items = listing_page.findAll(\"li\",attrs={\"id\": re.compile(\"item-[0-9]+\")})\n",
    "    parsed_list_page = [parse_list_page_item(li) for li in list_items]\n",
    "    return pd.DataFrame(parsed_list_page,columns=[\"Job ID\",\"Job Title\",\"Job URL\",\"Diversity Job\"])\n"
   ]
  },
  {
   "cell_type": "code",
   "execution_count": 38,
   "id": "9e2413c5-eb02-4afa-8b70-02d2d62d130b",
   "metadata": {},
   "outputs": [],
   "source": [
    "url = \"https://careers.insidehighered.com/jobs/tenured-and-tenure-track/four-year-institution/north-america/{}\"\n",
    "# TODO: build a function that scrapes all the details pages until we hit one that we've seen prior OR\n",
    "# We hit the end (in which case the url just returns the final page)\n",
    "frames = [parse_list_page(url.format(i)) for i in range(1,57)] \n",
    "listing_df = pd.concat(frames)"
   ]
  },
  {
   "cell_type": "code",
   "execution_count": 102,
   "id": "e1fee6d8-9b11-481f-9b96-a95068289e90",
   "metadata": {},
   "outputs": [
    {
     "name": "stdout",
     "output_type": "stream",
     "text": [
      "<div class=\"rss-diversity-description\">\n",
      "<div class=\"rss-diversity-description-container\"> </div>\n",
      "</div>\n"
     ]
    }
   ],
   "source": [
    "\n",
    "def parse_details_page(url):\n",
    "    \"\"\"\n",
    "        Parses the details page of a university\n",
    "    \n",
    "    \"\"\"\n",
    "    time.sleep(1)\n",
    "    r = requests.get(url,headers = {'User-Agent': 'Mozilla/5.0'})\n",
    "    details_page = bs(r.text)\n",
    "    # Get the job description\n",
    "    description = details_page.find(\"div\",attrs={\"class\":re.compile(\"[a-zA-Z0-9]*job-description*\")}).get_text()\n",
    "    details_block = details_page.find(\"dl\",attrs={\"class\":\"grid\"})\n",
    "    \n",
    "    diversity_profile = details_page.find(attrs={\"class\":\"rss-diversity-description\"})\n",
    "    return diversity_profile\n",
    "    employer,date_posted,salary = None,None,None\n",
    "    \n",
    "    if not details_block is None:\n",
    "        employer_html = details_block.find(\"div\",attrs={\"class\": re.compile(\"[a-zA-Z0-9]*description__recruiter\")})\n",
    "        if employer_html:\n",
    "            employer = employer_html.find(\"dd\").text.strip()\n",
    "        return employer\n",
    "    else:\n",
    "        employer_html = details_page.find(attrs={\"class\":\"main-container-university-information\"})\n",
    "        if 'text' in employer_html:\n",
    "            employer = employer_html.text\n",
    "        return employer\n",
    "\n",
    "    return details_block\n",
    "    \n",
    "print(parse_details_page(listing_df.iloc[40][\"Job URL\"]))"
   ]
  },
  {
   "cell_type": "code",
   "execution_count": 101,
   "id": "dc84a907-0b5a-42a8-abf5-11be459e017c",
   "metadata": {},
   "outputs": [
    {
     "data": {
      "text/plain": [
       "'https://careers.insidehighered.com/job/2162767/assistant-professor-in-mechanical-engineering/'"
      ]
     },
     "execution_count": 101,
     "metadata": {},
     "output_type": "execute_result"
    }
   ],
   "source": [
    "listing_df.iloc[40][\"Job URL\"]"
   ]
  },
  {
   "cell_type": "code",
   "execution_count": null,
   "id": "5718b60d-396f-4c65-aeb7-b1571e76080b",
   "metadata": {},
   "outputs": [],
   "source": []
  }
 ],
 "metadata": {
  "kernelspec": {
   "display_name": "Python (Job Ad Scraper)",
   "language": "python",
   "name": "job_ad"
  },
  "language_info": {
   "codemirror_mode": {
    "name": "ipython",
    "version": 3
   },
   "file_extension": ".py",
   "mimetype": "text/x-python",
   "name": "python",
   "nbconvert_exporter": "python",
   "pygments_lexer": "ipython3",
   "version": "3.9.4"
  }
 },
 "nbformat": 4,
 "nbformat_minor": 5
}
